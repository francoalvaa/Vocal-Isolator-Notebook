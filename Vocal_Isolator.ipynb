{
  "nbformat": 4,
  "nbformat_minor": 0,
  "metadata": {
    "colab": {
      "provenance": []
    },
    "kernelspec": {
      "name": "python3",
      "display_name": "Python 3"
    },
    "language_info": {
      "name": "python"
    }
  },
  "cells": [
    {
      "cell_type": "markdown",
      "source": [
        "#Vocal Isolator Notebook"
      ],
      "metadata": {
        "id": "269pvB_G3zRq"
      }
    },
    {
      "cell_type": "markdown",
      "source": [
        "This notebook demonstrates a voice isolator, a powerful tool that leverages the yt-dlp and spleeter libraries to separate vocals from instrumental tracks. By combining these advanced audio processing libraries, the notebook aims to extract the vocal components from a mixed audio source, providing a clear and isolated representation of the human voice.\n",
        "\n",
        "###Overview\n",
        "In many audio recordings, such as songs or podcasts, vocals and instrumental tracks are mixed together. The purpose of this notebook is to utilize yt-dlp and spleeter, two popular libraries in the open-source community, to perform vocal isolation.\n",
        "\n",
        "####yt-dlp:\n",
        "yt-dlp is an enhanced version of the popular yt-dl library that allows downloading audio and video content from various platforms. It provides a wide range of options and flexibility to retrieve audio data from online sources.\n",
        "\n",
        "####spleeter:\n",
        "Spleeter is a powerful library built on top of the Deezer Research source separation engine. It utilizes deep learning techniques to separate audio sources from a mixed signal. Spleeter's pre-trained models can effectively separate vocals and instrumental tracks, even in complex and densely mixed audio sources.\n",
        "\n"
      ],
      "metadata": {
        "id": "SRD3MjdveDz1"
      }
    },
    {
      "cell_type": "markdown",
      "source": [
        "##Installs"
      ],
      "metadata": {
        "id": "O16P1Da8eVv-"
      }
    },
    {
      "cell_type": "code",
      "source": [
        "!pip install yt-dlp #for downloading video/audio from youtube\n",
        "!pip install spleeter #for separating audio/song into parts (vocals, drums, bass, piano, other)\n",
        "!pip3 install pydub"
      ],
      "metadata": {
        "id": "pgi4apc5HfDV"
      },
      "execution_count": null,
      "outputs": []
    },
    {
      "cell_type": "markdown",
      "source": [
        "##Library Imports"
      ],
      "metadata": {
        "id": "sUJwuDFjhNUU"
      }
    },
    {
      "cell_type": "code",
      "source": [
        "import spleeter\n",
        "import yt_dlp\n",
        "import pydub\n",
        "\n",
        "from IPython.display import HTML\n",
        "\n",
        "import IPython.display as ipd\n",
        "import sys"
      ],
      "metadata": {
        "id": "RGhnWwYdIRHq"
      },
      "execution_count": null,
      "outputs": []
    },
    {
      "cell_type": "markdown",
      "source": [
        "##Using yt-dlp to download the .wav audiofile\n",
        "\n",
        "Copy and paste the full url (including the \"https://\" part).\n",
        "\n",
        "The audio file will be downloaded in .wav format"
      ],
      "metadata": {
        "id": "zD4WSs9Q1jrz"
      }
    },
    {
      "cell_type": "code",
      "source": [
        "\n",
        "URLS = \"\"#@param {type:\"string\"}\n",
        "\n",
        "ydl_opts = {\n",
        "    'format': 'wav/bestaudio/best',\n",
        "     'outtmpl': \"%(title)s.%(ext)s\", #formato del output del titulo\n",
        "    # ℹ️ See help(yt_dlp.postprocessor) for a list of available Postprocessors and their arguments\n",
        "    'postprocessors': [{  # Extract audio using ffmpeg\n",
        "        'key': 'FFmpegExtractAudio',\n",
        "        'preferredcodec': 'wav',\n",
        "    }]\n",
        "}\n",
        "\n",
        "with yt_dlp.YoutubeDL(ydl_opts) as ydl:\n",
        "    error_code = ydl.download(URLS)\n"
      ],
      "metadata": {
        "id": "vSDaRLUMKDXr"
      },
      "execution_count": null,
      "outputs": []
    },
    {
      "cell_type": "markdown",
      "source": [
        "##Isolate Vocals\n",
        "\n",
        "To use the following cell, you only need to copy the audiofile path and paste into the \" \""
      ],
      "metadata": {
        "id": "bCAmAN2M14yR"
      }
    },
    {
      "cell_type": "markdown",
      "source": [
        "Separate audio files with the default 2 stems (vocals / accompaniment)"
      ],
      "metadata": {
        "id": "Unm3IG5eUIH6"
      }
    },
    {
      "cell_type": "code",
      "source": [
        "!spleeter separate -p spleeter:2stems-16kHz -o 16khz \"/content/The Cure - Lovesong.wav\"\n",
        "#Reemplazar el path por el correspondiente\n"
      ],
      "metadata": {
        "colab": {
          "base_uri": "https://localhost:8080/"
        },
        "id": "ZEpr8OYwMehQ",
        "outputId": "3178fad7-5020-4b43-e5aa-86128d2b18cd"
      },
      "execution_count": null,
      "outputs": [
        {
          "output_type": "stream",
          "name": "stdout",
          "text": [
            "INFO:spleeter:File 16khz/The Cure - Lovesong/vocals.wav written succesfully\n",
            "INFO:spleeter:File 16khz/The Cure - Lovesong/accompaniment.wav written succesfully\n"
          ]
        }
      ]
    },
    {
      "cell_type": "markdown",
      "source": [
        "You can also use a pretrained 4 stems (vocals / bass / drums / other ) model:"
      ],
      "metadata": {
        "id": "MDTGH3d-Vu7R"
      }
    },
    {
      "cell_type": "code",
      "source": [
        "!spleeter separate -p spleeter:4stems-16Khz -o output/ \"\""
      ],
      "metadata": {
        "id": "XutwzxDJc7XM"
      },
      "execution_count": null,
      "outputs": []
    },
    {
      "cell_type": "markdown",
      "source": [
        "Finally a pretrained 5 stems (vocals / bass / drums / piano / other) model is also available:"
      ],
      "metadata": {
        "id": "S3wAxfgLYNO_"
      }
    },
    {
      "cell_type": "code",
      "source": [
        "!spleeter separate -p spleeter:5stems-16Khz -o output/ \"\"\n"
      ],
      "metadata": {
        "id": "Sf0XchXSYQDO"
      },
      "execution_count": null,
      "outputs": []
    },
    {
      "cell_type": "code",
      "source": [],
      "metadata": {
        "id": "VjXKpaPZgDlo"
      },
      "execution_count": null,
      "outputs": []
    }
  ]
}